{
 "cells": [
  {
   "cell_type": "code",
   "execution_count": null,
   "id": "ca3cd4fe",
   "metadata": {},
   "outputs": [],
   "source": [
    "import sys\n",
    "import clipboard\n",
    "import json\n",
    "\n",
    "#Let's write some functions that can create and read a json file.\n",
    "#w mode = write\n",
    "#.dumps() dumps data to a file\n",
    "def save_items(filepath, date):\n",
    "    with open(filepath, \"w\") as f:\n",
    "        json.dump(data, f)\n",
    "        \n",
    "#save_items(\"test.json\",{\"key\":\"value\"})\n",
    "\n",
    "#r mode = read\n",
    "def load_items(filepath):\n",
    "    with open(filepath, \"r\") as f:\n",
    "        data = json.load(f)\n",
    "        return data\n",
    "\n",
    "#We want to store all the clipboard items into a json file.\n",
    "#Use paste to paste from clipboard into data variable\n",
    "#To save data use clipboard.copy(). After you copy you can paste what you saved wherever you'd like.\n",
    "#data = clipboard.paste()\n",
    "#print(data)\n",
    "\n",
    "#Let's create a code where we can run this script directly through a python command line (prompt) instead of hitting the \"run\" button.\n",
    "#argv gives you all the command line arguments that are passed along on this file.\n",
    "#If there are multiple commands and you only want to print one or not all of them, you can use slice ex. print(sys.argv[1:]).\n",
    "#print(sys.argv)\n",
    "\n",
    "if len(sys.argv) == 2:\n",
    "    #It needs to be two for the name of the file and the name of the command\n",
    "    command = sys.agrv[1]\n",
    "    #print(command)\n",
    "    if command == \"save\":\n",
    "        print(\"save\")\n",
    "    elif command == \"load\":\n",
    "        print(\"load\")\n",
    "    elif command == \"list\":\n",
    "        print(\"list\")\n",
    "    else:\n",
    "        print(\"Unknown Command\")\n",
    "else:\n",
    "    print(\"Please pass exactly one command.\")\n",
    "        "
   ]
  },
  {
   "cell_type": "code",
   "execution_count": null,
   "id": "0c3595a6",
   "metadata": {},
   "outputs": [],
   "source": []
  }
 ],
 "metadata": {
  "kernelspec": {
   "display_name": "Python 3 (ipykernel)",
   "language": "python",
   "name": "python3"
  },
  "language_info": {
   "codemirror_mode": {
    "name": "ipython",
    "version": 3
   },
   "file_extension": ".py",
   "mimetype": "text/x-python",
   "name": "python",
   "nbconvert_exporter": "python",
   "pygments_lexer": "ipython3",
   "version": "3.9.7"
  }
 },
 "nbformat": 4,
 "nbformat_minor": 5
}
